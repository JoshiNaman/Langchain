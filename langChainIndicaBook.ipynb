{
  "cells": [
    {
      "cell_type": "code",
      "execution_count": null,
      "metadata": {
        "colab": {
          "base_uri": "https://localhost:8080/"
        },
        "id": "diu6iZ8hCGcB",
        "outputId": "831a6e8c-6aca-4f98-b553-9618dc80a66c"
      },
      "outputs": [],
      "source": [
        "!pip install pdfminer.six\n",
        "!pip install langchain\n",
        "!pip install chromad\n",
        "!pip install tiktoken\n",
        "!pip install unstructured\n",
        "!pip3 install pinecone-client"
      ]
    },
    {
      "cell_type": "code",
      "execution_count": null,
      "metadata": {
        "colab": {
          "base_uri": "https://localhost:8080/"
        },
        "id": "Wy9-Zc-xEzZN",
        "outputId": "bc7d4f62-5c71-4f45-c719-81183c32b212"
      },
      "outputs": [],
      "source": [
        "!pip install openai"
      ]
    },
    {
      "cell_type": "code",
      "execution_count": 3,
      "metadata": {
        "id": "RkfQyQZBs3jN"
      },
      "outputs": [],
      "source": [
        "openAI_API_Key = 'openAPI Key here'"
      ]
    },
    {
      "cell_type": "code",
      "execution_count": 4,
      "metadata": {
        "id": "hG6o2BEz2kZc"
      },
      "outputs": [],
      "source": [
        "import pandas\n",
        "import textwrap"
      ]
    },
    {
      "cell_type": "code",
      "execution_count": 5,
      "metadata": {
        "id": "Svkg8aFAtHNg"
      },
      "outputs": [],
      "source": [
        "from langchain.document_loaders import UnstructuredPDFLoader, OnlinePDFLoader\n",
        "from langchain.text_splitter import RecursiveCharacterTextSplitter"
      ]
    },
    {
      "cell_type": "code",
      "execution_count": 21,
      "metadata": {
        "id": "S_HGOVq42IOP"
      },
      "outputs": [],
      "source": [
        "loader = UnstructuredPDFLoader(\"/content/drive/MyDrive/INDICA_CHATAI/Indica_ A Deep Natural History of the Indian Subcontinent.pdf\")"
      ]
    },
    {
      "cell_type": "code",
      "execution_count": 7,
      "metadata": {
        "id": "9Ga0KyzrJbpM"
      },
      "outputs": [],
      "source": [
        "from langchain.document_loaders import UnstructuredFileLoader"
      ]
    },
    {
      "cell_type": "code",
      "execution_count": 19,
      "metadata": {
        "id": "VduZ_AQwJAnR"
      },
      "outputs": [],
      "source": [
        "loader = UnstructuredFileLoader(\"/content/Harry Potter and the Order of the Phoenix.txt\")"
      ]
    },
    {
      "cell_type": "code",
      "execution_count": null,
      "metadata": {
        "colab": {
          "base_uri": "https://localhost:8080/"
        },
        "id": "cTGomaF4L56K",
        "outputId": "979e345b-e367-494b-d0bd-9d869667473b"
      },
      "outputs": [],
      "source": [
        "!pip install pytesseract\n",
        "!pip install pdf2image"
      ]
    },
    {
      "cell_type": "code",
      "execution_count": 22,
      "metadata": {
        "id": "4TUs_GvU4uhv"
      },
      "outputs": [],
      "source": [
        "data = loader.load()"
      ]
    },
    {
      "cell_type": "code",
      "execution_count": 23,
      "metadata": {
        "colab": {
          "base_uri": "https://localhost:8080/"
        },
        "id": "baMhUx0B5Fcn",
        "outputId": "8cb816f7-b086-41b4-fd44-0ec12dce5d07"
      },
      "outputs": [
        {
          "name": "stdout",
          "output_type": "stream",
          "text": [
            "You have 1 document(s) in your data\n",
            "There are 917138 characters in your document\n"
          ]
        }
      ],
      "source": [
        "print (f'You have {len(data)} document(s) in your data')\n",
        "print (f'There are {len(data[0].page_content)} characters in your document')"
      ]
    },
    {
      "attachments": {},
      "cell_type": "markdown",
      "metadata": {
        "id": "jSuJKEp57u-Z"
      },
      "source": [
        "**Chunk your data up into smaller documents**"
      ]
    },
    {
      "cell_type": "code",
      "execution_count": 24,
      "metadata": {
        "id": "51oWlYGh7lUC"
      },
      "outputs": [],
      "source": [
        "text_splitter = RecursiveCharacterTextSplitter(chunk_size=1000, chunk_overlap=0)\n",
        "texts = text_splitter.split_documents(data)\n",
        "#texts = []\n",
        "#for i in range (100):\n",
        "  #texts.append(text1[i])"
      ]
    },
    {
      "cell_type": "code",
      "execution_count": 25,
      "metadata": {
        "colab": {
          "base_uri": "https://localhost:8080/"
        },
        "id": "W738TA-D73qe",
        "outputId": "a4b5d908-64ed-4053-b79c-db6b7067b0a4"
      },
      "outputs": [
        {
          "name": "stdout",
          "output_type": "stream",
          "text": [
            "Now you have 1321 documents\n",
            "<class 'list'>\n"
          ]
        }
      ],
      "source": [
        "print (f'Now you have {len(texts)} documents')\n",
        "print(type(texts))"
      ]
    },
    {
      "attachments": {},
      "cell_type": "markdown",
      "metadata": {
        "id": "bR0PCh7P8Cl8"
      },
      "source": [
        "**Create embeddings of your documents to get ready for semantic search** "
      ]
    },
    {
      "cell_type": "code",
      "execution_count": 26,
      "metadata": {
        "id": "ppnXmfE876ax"
      },
      "outputs": [],
      "source": [
        "from langchain.vectorstores import Chroma, Pinecone\n",
        "from langchain.embeddings.openai import OpenAIEmbeddings\n",
        "import pinecone"
      ]
    },
    {
      "cell_type": "code",
      "execution_count": 27,
      "metadata": {
        "id": "a3rfgf8u8LYF"
      },
      "outputs": [],
      "source": [
        "OPENAI_API_KEY = openAI_API_Key\n",
        "PINECONE_API_KEY = 'put your pinecone api in quotes'\n",
        "PINECONE_API_ENV = 'asia-northeast1-gcp'"
      ]
    },
    {
      "cell_type": "code",
      "execution_count": 28,
      "metadata": {
        "id": "DLOyXfioswfq"
      },
      "outputs": [],
      "source": [
        "embeddings = OpenAIEmbeddings(openai_api_key=OPENAI_API_KEY)"
      ]
    },
    {
      "cell_type": "code",
      "execution_count": 29,
      "metadata": {
        "id": "3JXauRhfs47J"
      },
      "outputs": [],
      "source": [
        "# initialize pinecone\n",
        "pinecone.init(\n",
        "    api_key=PINECONE_API_KEY,  # find at app.pinecone.io\n",
        "    environment=PINECONE_API_ENV  # next to api key in console\n",
        ")\n",
        "index_name = \"langchain2\" # put in the name of your pinecone index here\n"
      ]
    },
    {
      "cell_type": "code",
      "execution_count": 30,
      "metadata": {
        "id": "IbkFoQO1uJp1"
      },
      "outputs": [],
      "source": [
        "docsearch = Pinecone.from_texts([t.page_content for t in texts], embeddings, index_name=index_name)"
      ]
    },
    {
      "cell_type": "code",
      "execution_count": 39,
      "metadata": {
        "id": "wQPrr7An4LqR"
      },
      "outputs": [],
      "source": [
        "query = \"name some crater sites in india?\"\n",
        "docs = docsearch.similarity_search(query, k=5)"
      ]
    },
    {
      "cell_type": "code",
      "execution_count": 40,
      "metadata": {
        "colab": {
          "base_uri": "https://localhost:8080/"
        },
        "id": "b1MxcFt_4YAp",
        "outputId": "529017a3-8887-4f12-b270-56144bc810f0"
      },
      "outputs": [
        {
          "name": "stdout",
          "output_type": "stream",
          "text": [
            "[Document(lc_kwargs={'page_content': \"of\\tDelhi\\tis\\tthe\\tRamgarh\\tcrater\\t(Lat:\\t25°32'N,\\tLong:\\t76°62'E)\\tin\\tBaran\\tdistrict\\tof\\n\\nRajasthan\\twith\\tthe\\ttown\\tof\\tRamgarh\\tsituated\\tat\\tits\\tcentre.\\tAlthough\\tit\\tis\\tstill\\n\\nbeing\\tdebated\\twhether\\tthis\\tis\\ta\\tcrater\\tor\\tmerely\\ta\\tlarge,\\texposed\\tvolcanic\\tvent,\\n\\nminute\\tglass\\tshards\\tembedded\\twithin\\tits\\tlayers\\tsuggest\\tthat\\tit\\tis\\tmore\\tlikely\\tto\\n\\nbe\\tan\\timpact\\tcrater.\\tAnother\\tcandidate\\tcrater\\tin\\tthe\\tArabian\\tSea\\tlies\\toffshore\\n\\nbetween\\tMumbai\\tand\\tthe\\tGulf\\tof\\tCambay\\tand\\tcan\\tbe\\tseen\\tfrom\\tspace.\\tCalled\\n\\nthe\\tShiva\\tcrater,\\tits\\tdiscoverers\\tclaim\\tto\\thave\\tfound\\ta\\tcircular\\tand\\tunusually\\n\\ndeep\\tdepression\\ton\\tan\\totherwise\\tflat\\tseabed\\tand\\tbelieve\\tthat\\tthe\\tmassive\\tmeteor\\n\\nresponsible\\tfor\\tit\\tfell\\taround\\t65\\tmillion\\tyears\\tago,\\tcreating\\tenough\\tdestruction\\tto\\n\\nend\\tthe\\treign\\tof\\tthe\\tdinosaurs.\\tHowever,\\twhether\\tor\\tnot\\tit\\tis\\tindeed\\ta\\tmeteor\\n\\nimpact\\tsite\\tcontinues\\tto\\tbe\\tdebated.\\tIn\\t2009,\\tsome\\tgeologists\\tsuggested\\tthat\\n\\nSrinagar’s\\tfamous\\tDal\\tLake\\twas\\tactually\\ta\\tdepression\\tcreated\\tby\\ta\\tmeteor.\", 'metadata': {}}, page_content=\"of\\tDelhi\\tis\\tthe\\tRamgarh\\tcrater\\t(Lat:\\t25°32'N,\\tLong:\\t76°62'E)\\tin\\tBaran\\tdistrict\\tof\\n\\nRajasthan\\twith\\tthe\\ttown\\tof\\tRamgarh\\tsituated\\tat\\tits\\tcentre.\\tAlthough\\tit\\tis\\tstill\\n\\nbeing\\tdebated\\twhether\\tthis\\tis\\ta\\tcrater\\tor\\tmerely\\ta\\tlarge,\\texposed\\tvolcanic\\tvent,\\n\\nminute\\tglass\\tshards\\tembedded\\twithin\\tits\\tlayers\\tsuggest\\tthat\\tit\\tis\\tmore\\tlikely\\tto\\n\\nbe\\tan\\timpact\\tcrater.\\tAnother\\tcandidate\\tcrater\\tin\\tthe\\tArabian\\tSea\\tlies\\toffshore\\n\\nbetween\\tMumbai\\tand\\tthe\\tGulf\\tof\\tCambay\\tand\\tcan\\tbe\\tseen\\tfrom\\tspace.\\tCalled\\n\\nthe\\tShiva\\tcrater,\\tits\\tdiscoverers\\tclaim\\tto\\thave\\tfound\\ta\\tcircular\\tand\\tunusually\\n\\ndeep\\tdepression\\ton\\tan\\totherwise\\tflat\\tseabed\\tand\\tbelieve\\tthat\\tthe\\tmassive\\tmeteor\\n\\nresponsible\\tfor\\tit\\tfell\\taround\\t65\\tmillion\\tyears\\tago,\\tcreating\\tenough\\tdestruction\\tto\\n\\nend\\tthe\\treign\\tof\\tthe\\tdinosaurs.\\tHowever,\\twhether\\tor\\tnot\\tit\\tis\\tindeed\\ta\\tmeteor\\n\\nimpact\\tsite\\tcontinues\\tto\\tbe\\tdebated.\\tIn\\t2009,\\tsome\\tgeologists\\tsuggested\\tthat\\n\\nSrinagar’s\\tfamous\\tDal\\tLake\\twas\\tactually\\ta\\tdepression\\tcreated\\tby\\ta\\tmeteor.\", metadata={}), Document(lc_kwargs={'page_content': \"of\\tDelhi\\tis\\tthe\\tRamgarh\\tcrater\\t(Lat:\\t25°32'N,\\tLong:\\t76°62'E)\\tin\\tBaran\\tdistrict\\tof\\n\\nRajasthan\\twith\\tthe\\ttown\\tof\\tRamgarh\\tsituated\\tat\\tits\\tcentre.\\tAlthough\\tit\\tis\\tstill\\n\\nbeing\\tdebated\\twhether\\tthis\\tis\\ta\\tcrater\\tor\\tmerely\\ta\\tlarge,\\texposed\\tvolcanic\\tvent,\\n\\nminute\\tglass\\tshards\\tembedded\\twithin\\tits\\tlayers\\tsuggest\\tthat\\tit\\tis\\tmore\\tlikely\\tto\\n\\nbe\\tan\\timpact\\tcrater.\\tAnother\\tcandidate\\tcrater\\tin\\tthe\\tArabian\\tSea\\tlies\\toffshore\\n\\nbetween\\tMumbai\\tand\\tthe\\tGulf\\tof\\tCambay\\tand\\tcan\\tbe\\tseen\\tfrom\\tspace.\\tCalled\\n\\nthe\\tShiva\\tcrater,\\tits\\tdiscoverers\\tclaim\\tto\\thave\\tfound\\ta\\tcircular\\tand\\tunusually\\n\\ndeep\\tdepression\\ton\\tan\\totherwise\\tflat\\tseabed\\tand\\tbelieve\\tthat\\tthe\\tmassive\\tmeteor\\n\\nresponsible\\tfor\\tit\\tfell\\taround\\t65\\tmillion\\tyears\\tago,\\tcreating\\tenough\\tdestruction\\tto\\n\\nend\\tthe\\treign\\tof\\tthe\\tdinosaurs.\\tHowever,\\twhether\\tor\\tnot\\tit\\tis\\tindeed\\ta\\tmeteor\\n\\nimpact\\tsite\\tcontinues\\tto\\tbe\\tdebated.\\tIn\\t2009,\\tsome\\tgeologists\\tsuggested\\tthat\\n\\nSrinagar’s\\tfamous\\tDal\\tLake\\twas\\tactually\\ta\\tdepression\\tcreated\\tby\\ta\\tmeteor.\", 'metadata': {}}, page_content=\"of\\tDelhi\\tis\\tthe\\tRamgarh\\tcrater\\t(Lat:\\t25°32'N,\\tLong:\\t76°62'E)\\tin\\tBaran\\tdistrict\\tof\\n\\nRajasthan\\twith\\tthe\\ttown\\tof\\tRamgarh\\tsituated\\tat\\tits\\tcentre.\\tAlthough\\tit\\tis\\tstill\\n\\nbeing\\tdebated\\twhether\\tthis\\tis\\ta\\tcrater\\tor\\tmerely\\ta\\tlarge,\\texposed\\tvolcanic\\tvent,\\n\\nminute\\tglass\\tshards\\tembedded\\twithin\\tits\\tlayers\\tsuggest\\tthat\\tit\\tis\\tmore\\tlikely\\tto\\n\\nbe\\tan\\timpact\\tcrater.\\tAnother\\tcandidate\\tcrater\\tin\\tthe\\tArabian\\tSea\\tlies\\toffshore\\n\\nbetween\\tMumbai\\tand\\tthe\\tGulf\\tof\\tCambay\\tand\\tcan\\tbe\\tseen\\tfrom\\tspace.\\tCalled\\n\\nthe\\tShiva\\tcrater,\\tits\\tdiscoverers\\tclaim\\tto\\thave\\tfound\\ta\\tcircular\\tand\\tunusually\\n\\ndeep\\tdepression\\ton\\tan\\totherwise\\tflat\\tseabed\\tand\\tbelieve\\tthat\\tthe\\tmassive\\tmeteor\\n\\nresponsible\\tfor\\tit\\tfell\\taround\\t65\\tmillion\\tyears\\tago,\\tcreating\\tenough\\tdestruction\\tto\\n\\nend\\tthe\\treign\\tof\\tthe\\tdinosaurs.\\tHowever,\\twhether\\tor\\tnot\\tit\\tis\\tindeed\\ta\\tmeteor\\n\\nimpact\\tsite\\tcontinues\\tto\\tbe\\tdebated.\\tIn\\t2009,\\tsome\\tgeologists\\tsuggested\\tthat\\n\\nSrinagar’s\\tfamous\\tDal\\tLake\\twas\\tactually\\ta\\tdepression\\tcreated\\tby\\ta\\tmeteor.\", metadata={}), Document(lc_kwargs={'page_content': \"of\\tDelhi\\tis\\tthe\\tRamgarh\\tcrater\\t(Lat:\\t25°32'N,\\tLong:\\t76°62'E)\\tin\\tBaran\\tdistrict\\tof\\n\\nRajasthan\\twith\\tthe\\ttown\\tof\\tRamgarh\\tsituated\\tat\\tits\\tcentre.\\tAlthough\\tit\\tis\\tstill\\n\\nbeing\\tdebated\\twhether\\tthis\\tis\\ta\\tcrater\\tor\\tmerely\\ta\\tlarge,\\texposed\\tvolcanic\\tvent,\\n\\nminute\\tglass\\tshards\\tembedded\\twithin\\tits\\tlayers\\tsuggest\\tthat\\tit\\tis\\tmore\\tlikely\\tto\\n\\nbe\\tan\\timpact\\tcrater.\\tAnother\\tcandidate\\tcrater\\tin\\tthe\\tArabian\\tSea\\tlies\\toffshore\\n\\nbetween\\tMumbai\\tand\\tthe\\tGulf\\tof\\tCambay\\tand\\tcan\\tbe\\tseen\\tfrom\\tspace.\\tCalled\\n\\nthe\\tShiva\\tcrater,\\tits\\tdiscoverers\\tclaim\\tto\\thave\\tfound\\ta\\tcircular\\tand\\tunusually\\n\\ndeep\\tdepression\\ton\\tan\\totherwise\\tflat\\tseabed\\tand\\tbelieve\\tthat\\tthe\\tmassive\\tmeteor\\n\\nresponsible\\tfor\\tit\\tfell\\taround\\t65\\tmillion\\tyears\\tago,\\tcreating\\tenough\\tdestruction\\tto\\n\\nend\\tthe\\treign\\tof\\tthe\\tdinosaurs.\\tHowever,\\twhether\\tor\\tnot\\tit\\tis\\tindeed\\ta\\tmeteor\\n\\nimpact\\tsite\\tcontinues\\tto\\tbe\\tdebated.\\tIn\\t2009,\\tsome\\tgeologists\\tsuggested\\tthat\\n\\nSrinagar’s\\tfamous\\tDal\\tLake\\twas\\tactually\\ta\\tdepression\\tcreated\\tby\\ta\\tmeteor.\", 'metadata': {}}, page_content=\"of\\tDelhi\\tis\\tthe\\tRamgarh\\tcrater\\t(Lat:\\t25°32'N,\\tLong:\\t76°62'E)\\tin\\tBaran\\tdistrict\\tof\\n\\nRajasthan\\twith\\tthe\\ttown\\tof\\tRamgarh\\tsituated\\tat\\tits\\tcentre.\\tAlthough\\tit\\tis\\tstill\\n\\nbeing\\tdebated\\twhether\\tthis\\tis\\ta\\tcrater\\tor\\tmerely\\ta\\tlarge,\\texposed\\tvolcanic\\tvent,\\n\\nminute\\tglass\\tshards\\tembedded\\twithin\\tits\\tlayers\\tsuggest\\tthat\\tit\\tis\\tmore\\tlikely\\tto\\n\\nbe\\tan\\timpact\\tcrater.\\tAnother\\tcandidate\\tcrater\\tin\\tthe\\tArabian\\tSea\\tlies\\toffshore\\n\\nbetween\\tMumbai\\tand\\tthe\\tGulf\\tof\\tCambay\\tand\\tcan\\tbe\\tseen\\tfrom\\tspace.\\tCalled\\n\\nthe\\tShiva\\tcrater,\\tits\\tdiscoverers\\tclaim\\tto\\thave\\tfound\\ta\\tcircular\\tand\\tunusually\\n\\ndeep\\tdepression\\ton\\tan\\totherwise\\tflat\\tseabed\\tand\\tbelieve\\tthat\\tthe\\tmassive\\tmeteor\\n\\nresponsible\\tfor\\tit\\tfell\\taround\\t65\\tmillion\\tyears\\tago,\\tcreating\\tenough\\tdestruction\\tto\\n\\nend\\tthe\\treign\\tof\\tthe\\tdinosaurs.\\tHowever,\\twhether\\tor\\tnot\\tit\\tis\\tindeed\\ta\\tmeteor\\n\\nimpact\\tsite\\tcontinues\\tto\\tbe\\tdebated.\\tIn\\t2009,\\tsome\\tgeologists\\tsuggested\\tthat\\n\\nSrinagar’s\\tfamous\\tDal\\tLake\\twas\\tactually\\ta\\tdepression\\tcreated\\tby\\ta\\tmeteor.\", metadata={}), Document(lc_kwargs={'page_content': \"There\\tare\\tthree\\tother\\tcraters\\tin\\tIndia\\tthat\\twere\\tprobably\\tcreated\\tby\\tmeteors but\\twe\\tdo\\tnot\\tknow\\tthis\\twith\\tabsolute\\tcertainty.\\tAbout\\t120\\tkilometres\\tsouthwest of\\tDelhi\\tis\\tthe\\tRamgarh\\tcrater\\t(Lat:\\t25°32'N,\\tLong:\\t76°62'E)\\tin\\tBaran\\tdistrict\\tof Rajasthan\\twith\\tthe\\ttown\\tof\\tRamgarh\\tsituated\\tat\\tits\\tcentre.\\tAlthough\\tit\\tis\\tstill being\\tdebated\\twhether\\tthis\\tis\\ta\\tcrater\\tor\\tmerely\\ta\\tlarge,\\texposed\\tvolcanic\\tvent, minute\\tglass\\tshards\\tembedded\\twithin\\tits\\tlayers\\tsuggest\\tthat\\tit\\tis\\tmore\\tlikely\\tto be\\tan\\timpact\\tcrater.\\tAnother\\tcandidate\\tcrater\\tin\\tthe\\tArabian\\tSea\\tlies\\toffshore between\\tMumbai\\tand\\tthe\\tGulf\\tof\\tCambay\\tand\\tcan\\tbe\\tseen\\tfrom\\tspace.\\tCalled the\\tShiva\\tcrater,\\tits\\tdiscoverers\\tclaim\\tto\\thave\\tfound\\ta\\tcircular\\tand\\tunusually deep\\tdepression\\ton\\tan\\totherwise\\tflat\\tseabed\\tand\\tbelieve\\tthat\\tthe\\tmassive\\tmeteor responsible\\tfor\\tit\\tfell\\taround\\t65\\tmillion\\tyears\\tago,\\tcreating\\tenough\\tdestruction\\tto end\\tthe\\treign\\tof\\tthe\\tdinosaurs.\\tHowever,\\twhether\\tor\\tnot\\tit\\tis\\tindeed\\ta\\tmeteor\", 'metadata': {}}, page_content=\"There\\tare\\tthree\\tother\\tcraters\\tin\\tIndia\\tthat\\twere\\tprobably\\tcreated\\tby\\tmeteors but\\twe\\tdo\\tnot\\tknow\\tthis\\twith\\tabsolute\\tcertainty.\\tAbout\\t120\\tkilometres\\tsouthwest of\\tDelhi\\tis\\tthe\\tRamgarh\\tcrater\\t(Lat:\\t25°32'N,\\tLong:\\t76°62'E)\\tin\\tBaran\\tdistrict\\tof Rajasthan\\twith\\tthe\\ttown\\tof\\tRamgarh\\tsituated\\tat\\tits\\tcentre.\\tAlthough\\tit\\tis\\tstill being\\tdebated\\twhether\\tthis\\tis\\ta\\tcrater\\tor\\tmerely\\ta\\tlarge,\\texposed\\tvolcanic\\tvent, minute\\tglass\\tshards\\tembedded\\twithin\\tits\\tlayers\\tsuggest\\tthat\\tit\\tis\\tmore\\tlikely\\tto be\\tan\\timpact\\tcrater.\\tAnother\\tcandidate\\tcrater\\tin\\tthe\\tArabian\\tSea\\tlies\\toffshore between\\tMumbai\\tand\\tthe\\tGulf\\tof\\tCambay\\tand\\tcan\\tbe\\tseen\\tfrom\\tspace.\\tCalled the\\tShiva\\tcrater,\\tits\\tdiscoverers\\tclaim\\tto\\thave\\tfound\\ta\\tcircular\\tand\\tunusually deep\\tdepression\\ton\\tan\\totherwise\\tflat\\tseabed\\tand\\tbelieve\\tthat\\tthe\\tmassive\\tmeteor responsible\\tfor\\tit\\tfell\\taround\\t65\\tmillion\\tyears\\tago,\\tcreating\\tenough\\tdestruction\\tto end\\tthe\\treign\\tof\\tthe\\tdinosaurs.\\tHowever,\\twhether\\tor\\tnot\\tit\\tis\\tindeed\\ta\\tmeteor\", metadata={}), Document(lc_kwargs={'page_content': \"There\\tare\\tthree\\tother\\tcraters\\tin\\tIndia\\tthat\\twere\\tprobably\\tcreated\\tby\\tmeteors but\\twe\\tdo\\tnot\\tknow\\tthis\\twith\\tabsolute\\tcertainty.\\tAbout\\t120\\tkilometres\\tsouthwest of\\tDelhi\\tis\\tthe\\tRamgarh\\tcrater\\t(Lat:\\t25°32'N,\\tLong:\\t76°62'E)\\tin\\tBaran\\tdistrict\\tof Rajasthan\\twith\\tthe\\ttown\\tof\\tRamgarh\\tsituated\\tat\\tits\\tcentre.\\tAlthough\\tit\\tis\\tstill being\\tdebated\\twhether\\tthis\\tis\\ta\\tcrater\\tor\\tmerely\\ta\\tlarge,\\texposed\\tvolcanic\\tvent, minute\\tglass\\tshards\\tembedded\\twithin\\tits\\tlayers\\tsuggest\\tthat\\tit\\tis\\tmore\\tlikely\\tto be\\tan\\timpact\\tcrater.\\tAnother\\tcandidate\\tcrater\\tin\\tthe\\tArabian\\tSea\\tlies\\toffshore between\\tMumbai\\tand\\tthe\\tGulf\\tof\\tCambay\\tand\\tcan\\tbe\\tseen\\tfrom\\tspace.\\tCalled the\\tShiva\\tcrater,\\tits\\tdiscoverers\\tclaim\\tto\\thave\\tfound\\ta\\tcircular\\tand\\tunusually deep\\tdepression\\ton\\tan\\totherwise\\tflat\\tseabed\\tand\\tbelieve\\tthat\\tthe\\tmassive\\tmeteor responsible\\tfor\\tit\\tfell\\taround\\t65\\tmillion\\tyears\\tago,\\tcreating\\tenough\\tdestruction\\tto end\\tthe\\treign\\tof\\tthe\\tdinosaurs.\\tHowever,\\twhether\\tor\\tnot\\tit\\tis\\tindeed\\ta\\tmeteor\", 'metadata': {}}, page_content=\"There\\tare\\tthree\\tother\\tcraters\\tin\\tIndia\\tthat\\twere\\tprobably\\tcreated\\tby\\tmeteors but\\twe\\tdo\\tnot\\tknow\\tthis\\twith\\tabsolute\\tcertainty.\\tAbout\\t120\\tkilometres\\tsouthwest of\\tDelhi\\tis\\tthe\\tRamgarh\\tcrater\\t(Lat:\\t25°32'N,\\tLong:\\t76°62'E)\\tin\\tBaran\\tdistrict\\tof Rajasthan\\twith\\tthe\\ttown\\tof\\tRamgarh\\tsituated\\tat\\tits\\tcentre.\\tAlthough\\tit\\tis\\tstill being\\tdebated\\twhether\\tthis\\tis\\ta\\tcrater\\tor\\tmerely\\ta\\tlarge,\\texposed\\tvolcanic\\tvent, minute\\tglass\\tshards\\tembedded\\twithin\\tits\\tlayers\\tsuggest\\tthat\\tit\\tis\\tmore\\tlikely\\tto be\\tan\\timpact\\tcrater.\\tAnother\\tcandidate\\tcrater\\tin\\tthe\\tArabian\\tSea\\tlies\\toffshore between\\tMumbai\\tand\\tthe\\tGulf\\tof\\tCambay\\tand\\tcan\\tbe\\tseen\\tfrom\\tspace.\\tCalled the\\tShiva\\tcrater,\\tits\\tdiscoverers\\tclaim\\tto\\thave\\tfound\\ta\\tcircular\\tand\\tunusually deep\\tdepression\\ton\\tan\\totherwise\\tflat\\tseabed\\tand\\tbelieve\\tthat\\tthe\\tmassive\\tmeteor responsible\\tfor\\tit\\tfell\\taround\\t65\\tmillion\\tyears\\tago,\\tcreating\\tenough\\tdestruction\\tto end\\tthe\\treign\\tof\\tthe\\tdinosaurs.\\tHowever,\\twhether\\tor\\tnot\\tit\\tis\\tindeed\\ta\\tmeteor\", metadata={})]\n"
          ]
        }
      ],
      "source": [
        "print(docs)"
      ]
    },
    {
      "attachments": {},
      "cell_type": "markdown",
      "metadata": {
        "id": "EnIi-tHp5Gio"
      },
      "source": [
        "Query the document:\n"
      ]
    },
    {
      "cell_type": "code",
      "execution_count": 33,
      "metadata": {
        "id": "6nINveO14Yiy"
      },
      "outputs": [],
      "source": [
        "from langchain.llms import OpenAI\n",
        "from langchain.chains.question_answering import load_qa_chain"
      ]
    },
    {
      "cell_type": "code",
      "execution_count": 52,
      "metadata": {
        "id": "RWSfCswD5OGP"
      },
      "outputs": [],
      "source": [
        "llm = OpenAI(temperature=0.5, openai_api_key=OPENAI_API_KEY)\n",
        "chain = load_qa_chain(llm, chain_type=\"stuff\")\n"
      ]
    },
    {
      "cell_type": "code",
      "execution_count": 53,
      "metadata": {
        "id": "B2AXPfTx5Q1W"
      },
      "outputs": [],
      "source": [
        "def askme(query):\n",
        "  docs = docsearch.similarity_search(query, k=3)\n",
        "  ans = chain.run(input_documents=docs, question=query)\n",
        "  print (textwrap.fill(ans, width=80))"
      ]
    },
    {
      "cell_type": "code",
      "execution_count": 54,
      "metadata": {
        "id": "Pe2LeDFM5x_-"
      },
      "outputs": [],
      "source": [
        "query = \"tell me about crater lake in maharastra?\""
      ]
    },
    {
      "cell_type": "code",
      "execution_count": 55,
      "metadata": {
        "colab": {
          "base_uri": "https://localhost:8080/"
        },
        "id": "VpQMyal26AVa",
        "outputId": "6fd401c2-0685-4b29-f536-d8775b062742"
      },
      "outputs": [
        {
          "name": "stdout",
          "output_type": "stream",
          "text": [
            " The Lonar crater in Buldhana district of central Maharashtra is a popular\n",
            "tourist destination. It is 2 kilometres wide and 170 metres deep, and at its\n",
            "centre lies a placid blue lake dotted with temples on the periphery. It is the\n",
            "only natural hypervelocity impact crater in the basaltic rock in the world.\n"
          ]
        }
      ],
      "source": [
        "askme(query)"
      ]
    },
    {
      "cell_type": "code",
      "execution_count": 56,
      "metadata": {
        "id": "exgta1UW6CuV"
      },
      "outputs": [],
      "source": [
        "query = \"my friend ankit is visiting madhya pradesh what ecological wonders can he see?\""
      ]
    },
    {
      "cell_type": "code",
      "execution_count": 57,
      "metadata": {
        "colab": {
          "base_uri": "https://localhost:8080/"
        },
        "id": "XIzj-c-7Miwl",
        "outputId": "451cf294-d6c1-4fd5-cbce-203f0a5b6c0a"
      },
      "outputs": [
        {
          "name": "stdout",
          "output_type": "stream",
          "text": [
            " Your friend Ankit can see the fossil sites in western and central Madhya\n",
            "Pradesh that Vishal Verma has been meticulously cataloguing and saving from\n",
            "being lost forever. He can also see the geological monuments and fossil sites\n",
            "that many other people are conserving with no resources in the face of\n",
            "administrative apathy.\n"
          ]
        }
      ],
      "source": [
        "askme(query)"
      ]
    }
  ],
  "metadata": {
    "colab": {
      "provenance": []
    },
    "kernelspec": {
      "display_name": "Python 3",
      "name": "python3"
    },
    "language_info": {
      "name": "python"
    }
  },
  "nbformat": 4,
  "nbformat_minor": 0
}
